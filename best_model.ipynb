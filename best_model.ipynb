{
 "cells": [
  {
   "cell_type": "code",
   "execution_count": 52,
   "metadata": {},
   "outputs": [],
   "source": [
    "import pandas as pd\n",
    "import numpy as np\n",
    "import seaborn as sns\n",
    "import matplotlib.pyplot as plt\n",
    "from empiricaldist import Pmf, Cdf\n",
    "from matplotlib.ticker import MaxNLocator\n",
    "%matplotlib inline  \n",
    "pd.set_option('display.max_columns', None)\n",
    "pd.set_option('display.max_rows', None)\n",
    "# for one hot encoding with feature-engine\n",
    "from feature_engine.categorical_encoders import OneHotCategoricalEncoder\n",
    "from feature_engine.categorical_encoders import RareLabelCategoricalEncoder\n",
    "from sklearn.model_selection import train_test_split\n",
    "from sklearn.model_selection import cross_val_score\n",
    "from sklearn.dummy import DummyRegressor\n",
    "from sklearn.metrics import mean_squared_error, r2_score, mean_squared_log_error \n",
    "from sklearn.ensemble import RandomForestRegressor\n",
    "from sklearn.linear_model import LinearRegression\n",
    "from lightgbm import LGBMRegressor\n",
    "import scipy.stats as stats\n",
    "from feature_engine import variable_transformers as vt\n",
    "from sklearn.preprocessing import StandardScaler"
   ]
  },
  {
   "cell_type": "code",
   "execution_count": 53,
   "metadata": {},
   "outputs": [],
   "source": [
    "train_data = pd.read_csv(\"train.csv\")\n",
    "test_data = pd.read_csv(\"test.csv\")"
   ]
  },
  {
   "cell_type": "code",
   "execution_count": 54,
   "metadata": {},
   "outputs": [],
   "source": [
    "# transform type\n",
    "\n",
    "train_data[[\"MoSold\", \"MSSubClass\"]] = train_data[[\"MoSold\", \"MSSubClass\"]].astype(str)\n",
    "# transform type\n",
    "\n",
    "test_data[[\"MoSold\", \"MSSubClass\"]] = test_data[[\"MoSold\", \"MSSubClass\"]].astype(str)"
   ]
  },
  {
   "cell_type": "code",
   "execution_count": 55,
   "metadata": {},
   "outputs": [],
   "source": [
    "# separate object and numerical columns. Separate area and surface area columns and year columns as wel\n",
    "\n",
    "cat_cols = [x for x in train_data.columns if train_data[x].dtype==np.object]\n",
    "num_cols = [x for x in train_data.columns if (train_data[x].dtype!=np.object) and (x not in ['Id', 'YrSold',\n",
    "                                                                                             'MiscVal', 'SalePrice'])]\n",
    "area_cols = [x for x in train_data.columns if (\"SF\" in x)|(\"Area\" in x)|(x==\"LotFrontage\")]\n",
    "year_cols = [x for x in num_cols if 'Yr' in x or 'Year' in x]"
   ]
  },
  {
   "cell_type": "code",
   "execution_count": 56,
   "metadata": {},
   "outputs": [
    {
     "data": {
      "text/plain": [
       "((1460, 79), (1459, 79))"
      ]
     },
     "execution_count": 56,
     "metadata": {},
     "output_type": "execute_result"
    }
   ],
   "source": [
    "# split train and test\n",
    "\n",
    "X_train = train_data.drop(['Id', 'SalePrice'], axis=1)\n",
    "X_test = test_data.drop('Id', axis=1)\n",
    "y_train = train_data['SalePrice']\n",
    "\n",
    "\n",
    "X_train.shape, X_test.shape\n"
   ]
  },
  {
   "cell_type": "code",
   "execution_count": 57,
   "metadata": {},
   "outputs": [],
   "source": [
    "# function to calculate elapsed time\n",
    "\n",
    "def elapsed_years(df, cols):\n",
    "    # capture difference between year col and\n",
    "    # year the house was sold\n",
    "    for col in cols:\n",
    "        if col=='YrSold':\n",
    "            continue\n",
    "        df[col] = df['YrSold'] - df[col]\n",
    "   \n",
    "    return df\n",
    "\n",
    "X_train = elapsed_years(X_train, year_cols)\n",
    "X_test = elapsed_years(X_test, year_cols)"
   ]
  },
  {
   "cell_type": "code",
   "execution_count": 58,
   "metadata": {},
   "outputs": [],
   "source": [
    "# lets drop YrSold and MiscVal\n",
    "\n",
    "X_train.drop(['YrSold', 'MiscVal'], axis=1, inplace=True)\n",
    "X_test.drop(['YrSold', 'MiscVal'], axis=1, inplace=True)"
   ]
  },
  {
   "cell_type": "code",
   "execution_count": 59,
   "metadata": {},
   "outputs": [
    {
     "name": "stdout",
     "output_type": "stream",
     "text": [
      "LotFrontage 0.1773972602739726\n",
      "Alley 0.9376712328767123\n",
      "MasVnrType 0.005479452054794521\n",
      "MasVnrArea 0.005479452054794521\n",
      "BsmtQual 0.025342465753424658\n",
      "BsmtCond 0.025342465753424658\n",
      "BsmtExposure 0.026027397260273973\n",
      "BsmtFinType1 0.025342465753424658\n",
      "BsmtFinType2 0.026027397260273973\n",
      "Electrical 0.0006849315068493151\n",
      "FireplaceQu 0.4726027397260274\n",
      "GarageType 0.05547945205479452\n",
      "GarageYrBlt 0.05547945205479452\n",
      "GarageFinish 0.05547945205479452\n",
      "GarageQual 0.05547945205479452\n",
      "GarageCond 0.05547945205479452\n",
      "PoolQC 0.9952054794520548\n",
      "Fence 0.8075342465753425\n",
      "MiscFeature 0.963013698630137\n"
     ]
    }
   ],
   "source": [
    "# lets check missing values\n",
    "for col in X_train.columns:\n",
    "    if X_train[col].isnull().sum() > 0:\n",
    "        print(col, X_train[col].isnull().mean())"
   ]
  },
  {
   "cell_type": "code",
   "execution_count": 60,
   "metadata": {},
   "outputs": [
    {
     "name": "stdout",
     "output_type": "stream",
     "text": [
      "MSZoning 0.0027416038382453737\n",
      "LotFrontage 0.15558601782042494\n",
      "Alley 0.9266620973269363\n",
      "Utilities 0.0013708019191226869\n",
      "Exterior1st 0.0006854009595613434\n",
      "Exterior2nd 0.0006854009595613434\n",
      "MasVnrType 0.010966415352981495\n",
      "MasVnrArea 0.01028101439342015\n",
      "BsmtQual 0.03015764222069911\n",
      "BsmtCond 0.030843043180260453\n",
      "BsmtExposure 0.03015764222069911\n",
      "BsmtFinType1 0.02878684030157642\n",
      "BsmtFinSF1 0.0006854009595613434\n",
      "BsmtFinType2 0.02878684030157642\n",
      "BsmtFinSF2 0.0006854009595613434\n",
      "BsmtUnfSF 0.0006854009595613434\n",
      "TotalBsmtSF 0.0006854009595613434\n",
      "BsmtFullBath 0.0013708019191226869\n",
      "BsmtHalfBath 0.0013708019191226869\n",
      "KitchenQual 0.0006854009595613434\n",
      "Functional 0.0013708019191226869\n",
      "FireplaceQu 0.5003427004797807\n",
      "GarageType 0.0520904729266621\n",
      "GarageYrBlt 0.053461274845784786\n",
      "GarageFinish 0.053461274845784786\n",
      "GarageCars 0.0006854009595613434\n",
      "GarageArea 0.0006854009595613434\n",
      "GarageQual 0.053461274845784786\n",
      "GarageCond 0.053461274845784786\n",
      "PoolQC 0.997943797121316\n",
      "Fence 0.8012337217272104\n",
      "MiscFeature 0.9650445510623715\n",
      "SaleType 0.0006854009595613434\n"
     ]
    }
   ],
   "source": [
    "# lets check missing values\n",
    "for col in X_test.columns:\n",
    "    if X_test[col].isnull().sum() > 0:\n",
    "        print(col, X_test[col].isnull().mean())"
   ]
  },
  {
   "cell_type": "code",
   "execution_count": 61,
   "metadata": {},
   "outputs": [],
   "source": [
    "# impute numerical cols with median value\n",
    "\n",
    "# define an imputation function\n",
    "def impute_na_median(df, cols):\n",
    "    for col in cols:\n",
    "        df[col]= df[col].fillna(df[col].median())\n",
    "    \n",
    "    return df\n",
    "\n",
    "# apply on train set and test set\n",
    "X_train_imp = impute_na_median(X_train, cols=num_cols)\n",
    "X_test_imp = impute_na_median(X_test, cols=num_cols)"
   ]
  },
  {
   "cell_type": "code",
   "execution_count": 62,
   "metadata": {},
   "outputs": [],
   "source": [
    "# impute cat cols with a 'NA' label\n",
    "\n",
    "# define an imputation function\n",
    "def impute_na_label(df, cols):\n",
    "    for col in cols:\n",
    "        df[col]= df[col].fillna('NA')\n",
    "    \n",
    "    return df\n",
    "\n",
    "# apply on train set and test set\n",
    "X_train_imp = impute_na_label(X_train_imp, cols=cat_cols)\n",
    "X_test_imp = impute_na_label(X_test_imp, cols=cat_cols)"
   ]
  },
  {
   "cell_type": "code",
   "execution_count": 63,
   "metadata": {},
   "outputs": [
    {
     "name": "stdout",
     "output_type": "stream",
     "text": [
      "{'LotFrontage': 0.4155172353595565, 'LotArea': 0.03081854079393649, 'MasVnrArea': -0.24430146914434417, 'BsmtFinSF1': 0.22872562524018467, 'BsmtFinSF2': -1.5215505484996374, 'BsmtUnfSF': 0.4712723599394073, 'TotalBsmtSF': 0.7396016878493652, '1stFlrSF': -0.07987709830415687, '2ndFlrSF': -0.12741730779016755, 'LowQualFinSF': -10.018636837166552, 'GrLivArea': 0.005539641278705955, 'GarageArea': 0.8112580246118668, 'WoodDeckSF': -0.078596115085857, 'OpenPorchSF': 0.011642789763656977, 'PoolArea': -32.86118772770139}\n"
     ]
    }
   ],
   "source": [
    "# transform the area columns to enhance skew\n",
    "\n",
    "yjt = vt.YeoJohnsonTransformer(variables = area_cols)\n",
    "yjt.fit(X_train_imp)\n",
    "print(yjt.lambda_dict_)\n",
    "X_train_imp_tr = yjt.transform(X_train_imp)\n",
    "X_test_imp_tr = yjt.transform(X_test_imp)"
   ]
  },
  {
   "cell_type": "code",
   "execution_count": 64,
   "metadata": {},
   "outputs": [],
   "source": [
    "# Apply rare label encoding on some of the cat cols\n",
    "\n",
    "rare_encoder = RareLabelCategoricalEncoder(\n",
    "    tol=0.05,  # minimal percentage to be considered non-rare\n",
    "    n_categories=3, # minimal number of categories the variable should have to re-cgroup rare categories\n",
    "    variables=cat_cols # apply to all categorical columns\n",
    ") \n",
    "\n",
    "rare_encoder.fit(X_train_imp_tr)\n",
    "X_train_imp_tr_enc = rare_encoder.transform(X_train_imp_tr)\n",
    "X_test_imp_tr_enc = rare_encoder.transform(X_test_imp_tr)"
   ]
  },
  {
   "cell_type": "code",
   "execution_count": 65,
   "metadata": {},
   "outputs": [],
   "source": [
    "# Apply hot one encoding next\n",
    "\n",
    "ohe_enc = OneHotCategoricalEncoder(\n",
    "    top_categories=None,\n",
    "    drop_last=False) # automatically detects all cat vars in data\n",
    "\n",
    "ohe_enc.fit(X_train_imp_tr_enc)\n",
    "\n",
    "X_train_imp_tr_enc = ohe_enc.transform(X_train_imp_tr_enc)\n",
    "X_test_imp_tr_enc = ohe_enc.transform(X_test_imp_tr_enc)"
   ]
  },
  {
   "cell_type": "code",
   "execution_count": 66,
   "metadata": {},
   "outputs": [],
   "source": [
    "# scaling the features since we will be using LR\n",
    "\n",
    "scaler = StandardScaler()\n",
    "scaler.fit(X_train_imp_tr_enc)\n",
    "\n",
    "# transform \n",
    "X_train_imp_tr_enc_sc = scaler.transform(X_train_imp_tr_enc)\n",
    "X_test_imp_tr_enc_sc = scaler.transform(X_test_imp_tr_enc)"
   ]
  },
  {
   "cell_type": "code",
   "execution_count": 67,
   "metadata": {},
   "outputs": [],
   "source": [
    "lightgbm_regr = LGBMRegressor(ambda_l1=1.0, feature_fraction=0.30, num_leaves=31, bagging_fraction=0.50, \n",
    "                                 bagging_freq=5, max_depth=9)\n",
    "\n",
    "lightgbm_regr.fit(X_train_imp_tr_enc_sc, y_train)\n",
    "\n",
    "y_pred_train = lightgbm_regr.predict(X_train_imp_tr_enc_sc)\n",
    "y_pred_test = lightgbm_regr.predict(X_test_imp_tr_enc_sc)"
   ]
  },
  {
   "cell_type": "code",
   "execution_count": 68,
   "metadata": {},
   "outputs": [
    {
     "name": "stdout",
     "output_type": "stream",
     "text": [
      "train mse: 375701907.89621824\n",
      "train rmse: 19383.031442378106\n",
      "train r2: 0.9404289674829158\n",
      "train rmsle: 0.08766882407159453\n"
     ]
    }
   ],
   "source": [
    "print('train mse: {}'.format(mean_squared_error(y_train, y_pred_train)))\n",
    "print('train rmse: {}'.format(np.sqrt(mean_squared_error(y_train, y_pred_train))))\n",
    "print('train r2: {}'.format(r2_score(y_train, y_pred_train)))\n",
    "print('train rmsle: {}'.format(np.sqrt(mean_squared_error(np.log(y_train), np.log(y_pred_train)))))\n"
   ]
  },
  {
   "cell_type": "code",
   "execution_count": null,
   "metadata": {},
   "outputs": [],
   "source": []
  }
 ],
 "metadata": {
  "kernelspec": {
   "display_name": "Python 3",
   "language": "python",
   "name": "python3"
  },
  "language_info": {
   "codemirror_mode": {
    "name": "ipython",
    "version": 3
   },
   "file_extension": ".py",
   "mimetype": "text/x-python",
   "name": "python",
   "nbconvert_exporter": "python",
   "pygments_lexer": "ipython3",
   "version": "3.8.0"
  }
 },
 "nbformat": 4,
 "nbformat_minor": 4
}

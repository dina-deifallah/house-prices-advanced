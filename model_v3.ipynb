{
 "cells": [
  {
   "cell_type": "code",
   "execution_count": 151,
   "metadata": {},
   "outputs": [],
   "source": [
    "import pandas as pd\n",
    "import numpy as np\n",
    "import seaborn as sns\n",
    "import matplotlib.pyplot as plt\n",
    "from empiricaldist import Pmf, Cdf\n",
    "from matplotlib.ticker import MaxNLocator\n",
    "%matplotlib inline  \n",
    "pd.set_option('display.max_columns', None)\n",
    "pd.set_option('display.max_rows', None)\n",
    "# for one hot encoding with feature-engine\n",
    "from feature_engine.categorical_encoders import OneHotCategoricalEncoder\n",
    "from feature_engine.categorical_encoders import RareLabelCategoricalEncoder\n",
    "from sklearn.model_selection import cross_val_score\n",
    "from sklearn.dummy import DummyRegressor\n",
    "from sklearn.metrics import mean_squared_log_error\n",
    "from sklearn.ensemble import RandomForestRegressor\n",
    "from lightgbm import LGBMRegressor"
   ]
  },
  {
   "cell_type": "code",
   "execution_count": 152,
   "metadata": {},
   "outputs": [],
   "source": [
    "train_data = pd.read_csv(\"train.csv\")"
   ]
  },
  {
   "cell_type": "code",
   "execution_count": 153,
   "metadata": {},
   "outputs": [
    {
     "name": "stdout",
     "output_type": "stream",
     "text": [
      "<class 'pandas.core.frame.DataFrame'>\n",
      "RangeIndex: 1460 entries, 0 to 1459\n",
      "Data columns (total 81 columns):\n",
      "Id               1460 non-null int64\n",
      "MSSubClass       1460 non-null int64\n",
      "MSZoning         1460 non-null object\n",
      "LotFrontage      1201 non-null float64\n",
      "LotArea          1460 non-null int64\n",
      "Street           1460 non-null object\n",
      "Alley            91 non-null object\n",
      "LotShape         1460 non-null object\n",
      "LandContour      1460 non-null object\n",
      "Utilities        1460 non-null object\n",
      "LotConfig        1460 non-null object\n",
      "LandSlope        1460 non-null object\n",
      "Neighborhood     1460 non-null object\n",
      "Condition1       1460 non-null object\n",
      "Condition2       1460 non-null object\n",
      "BldgType         1460 non-null object\n",
      "HouseStyle       1460 non-null object\n",
      "OverallQual      1460 non-null int64\n",
      "OverallCond      1460 non-null int64\n",
      "YearBuilt        1460 non-null int64\n",
      "YearRemodAdd     1460 non-null int64\n",
      "RoofStyle        1460 non-null object\n",
      "RoofMatl         1460 non-null object\n",
      "Exterior1st      1460 non-null object\n",
      "Exterior2nd      1460 non-null object\n",
      "MasVnrType       1452 non-null object\n",
      "MasVnrArea       1452 non-null float64\n",
      "ExterQual        1460 non-null object\n",
      "ExterCond        1460 non-null object\n",
      "Foundation       1460 non-null object\n",
      "BsmtQual         1423 non-null object\n",
      "BsmtCond         1423 non-null object\n",
      "BsmtExposure     1422 non-null object\n",
      "BsmtFinType1     1423 non-null object\n",
      "BsmtFinSF1       1460 non-null int64\n",
      "BsmtFinType2     1422 non-null object\n",
      "BsmtFinSF2       1460 non-null int64\n",
      "BsmtUnfSF        1460 non-null int64\n",
      "TotalBsmtSF      1460 non-null int64\n",
      "Heating          1460 non-null object\n",
      "HeatingQC        1460 non-null object\n",
      "CentralAir       1460 non-null object\n",
      "Electrical       1459 non-null object\n",
      "1stFlrSF         1460 non-null int64\n",
      "2ndFlrSF         1460 non-null int64\n",
      "LowQualFinSF     1460 non-null int64\n",
      "GrLivArea        1460 non-null int64\n",
      "BsmtFullBath     1460 non-null int64\n",
      "BsmtHalfBath     1460 non-null int64\n",
      "FullBath         1460 non-null int64\n",
      "HalfBath         1460 non-null int64\n",
      "BedroomAbvGr     1460 non-null int64\n",
      "KitchenAbvGr     1460 non-null int64\n",
      "KitchenQual      1460 non-null object\n",
      "TotRmsAbvGrd     1460 non-null int64\n",
      "Functional       1460 non-null object\n",
      "Fireplaces       1460 non-null int64\n",
      "FireplaceQu      770 non-null object\n",
      "GarageType       1379 non-null object\n",
      "GarageYrBlt      1379 non-null float64\n",
      "GarageFinish     1379 non-null object\n",
      "GarageCars       1460 non-null int64\n",
      "GarageArea       1460 non-null int64\n",
      "GarageQual       1379 non-null object\n",
      "GarageCond       1379 non-null object\n",
      "PavedDrive       1460 non-null object\n",
      "WoodDeckSF       1460 non-null int64\n",
      "OpenPorchSF      1460 non-null int64\n",
      "EnclosedPorch    1460 non-null int64\n",
      "3SsnPorch        1460 non-null int64\n",
      "ScreenPorch      1460 non-null int64\n",
      "PoolArea         1460 non-null int64\n",
      "PoolQC           7 non-null object\n",
      "Fence            281 non-null object\n",
      "MiscFeature      54 non-null object\n",
      "MiscVal          1460 non-null int64\n",
      "MoSold           1460 non-null int64\n",
      "YrSold           1460 non-null int64\n",
      "SaleType         1460 non-null object\n",
      "SaleCondition    1460 non-null object\n",
      "SalePrice        1460 non-null int64\n",
      "dtypes: float64(3), int64(35), object(43)\n",
      "memory usage: 924.0+ KB\n"
     ]
    }
   ],
   "source": [
    "train_data.info()"
   ]
  },
  {
   "cell_type": "raw",
   "metadata": {},
   "source": []
  },
  {
   "cell_type": "code",
   "execution_count": 154,
   "metadata": {},
   "outputs": [],
   "source": [
    "# imputing missing data as in baseline model\n",
    "\n",
    "train_data[\"LotFrontage\"] = train_data[\"LotFrontage\"].fillna(train_data[\"LotFrontage\"].median())\n",
    "train_data[\"MasVnrArea\"] = train_data[\"MasVnrArea\"].fillna(train_data[\"MasVnrArea\"].median())\n",
    "\n",
    "train_data[\"MasVnrType\"] = train_data[\"MasVnrType\"].fillna(train_data[\"MasVnrType\"].mode())\n",
    "train_data[\"Electrical\"] = train_data[\"Electrical\"].fillna(train_data[\"Electrical\"].mode())\n",
    "\n",
    "cat_cols= [x for x in train_data.columns if train_data[x].dtype==np.object]\n",
    "train_data[cat_cols]=train_data[cat_cols].fillna(\"NA\")\n",
    "train_data.drop(\"GarageYrBlt\", axis=1, inplace=True)"
   ]
  },
  {
   "cell_type": "code",
   "execution_count": 155,
   "metadata": {},
   "outputs": [],
   "source": [
    "# transforming some features as in baseline model\n",
    "\n",
    "train_data[[\"MoSold\", \"MSSubClass\"]] = train_data[[\"MoSold\", \"MSSubClass\"]].astype(str)"
   ]
  },
  {
   "cell_type": "code",
   "execution_count": 156,
   "metadata": {},
   "outputs": [
    {
     "data": {
      "text/plain": [
       "0    0.523288\n",
       "1    0.476712\n",
       "Name: Remod, dtype: float64"
      ]
     },
     "execution_count": 156,
     "metadata": {},
     "output_type": "execute_result"
    }
   ],
   "source": [
    "# Adding two additional engineered features:\n",
    "#1.Remod: binary feature, 1 if property was remodeled and 0 otherwise\n",
    "#2.Remod_YrsElapsed: int, number of years since last remodeling refrenced from year of purchase\n",
    "\n",
    "train_data[\"Remod\"]=0\n",
    "train_data.loc[train_data[\"YearBuilt\"]!=train_data[\"YearRemodAdd\"], \"Remod\"]=1\n",
    "train_data[\"Remod\"].value_counts()/len(train_data)"
   ]
  },
  {
   "cell_type": "code",
   "execution_count": 157,
   "metadata": {},
   "outputs": [
    {
     "data": {
      "image/png": "[encoded data removed]",
      "text/plain": [
       "<Figure size 432x288 with 1 Axes>"
      ]
     },
     "metadata": {
      "needs_background": "light"
     },
     "output_type": "display_data"
    }
   ],
   "source": [
    "train_data[\"Remod_YrsElapsed\"] = train_data[\"YrSold\"]-train_data[\"YearRemodAdd\"]\n",
    "train_data[\"Remod_YrsElapsed\"].hist(bins=30)\n",
    "plt.xlabel(\"number of years since last remodeling at time of purchase\");"
   ]
  },
  {
   "cell_type": "code",
   "execution_count": 158,
   "metadata": {},
   "outputs": [
    {
     "name": "stdout",
     "output_type": "stream",
     "text": [
      "Number of categories in the variable MSZoning: 5\n",
      "Number of categories in the variable Street: 2\n",
      "Number of categories in the variable Alley: 3\n",
      "Number of categories in the variable LotShape: 4\n",
      "Number of categories in the variable LandContour: 4\n",
      "Number of categories in the variable Utilities: 2\n",
      "Number of categories in the variable LotConfig: 5\n",
      "Number of categories in the variable LandSlope: 3\n",
      "Number of categories in the variable Neighborhood: 25\n",
      "Number of categories in the variable Condition1: 9\n",
      "Number of categories in the variable Condition2: 8\n",
      "Number of categories in the variable BldgType: 5\n",
      "Number of categories in the variable HouseStyle: 8\n",
      "Number of categories in the variable RoofStyle: 6\n",
      "Number of categories in the variable RoofMatl: 8\n",
      "Number of categories in the variable Exterior1st: 15\n",
      "Number of categories in the variable Exterior2nd: 16\n",
      "Number of categories in the variable MasVnrType: 5\n",
      "Number of categories in the variable ExterQual: 4\n",
      "Number of categories in the variable ExterCond: 5\n",
      "Number of categories in the variable Foundation: 6\n",
      "Number of categories in the variable BsmtQual: 5\n",
      "Number of categories in the variable BsmtCond: 5\n",
      "Number of categories in the variable BsmtExposure: 5\n",
      "Number of categories in the variable BsmtFinType1: 7\n",
      "Number of categories in the variable BsmtFinType2: 7\n",
      "Number of categories in the variable Heating: 6\n",
      "Number of categories in the variable HeatingQC: 5\n",
      "Number of categories in the variable CentralAir: 2\n",
      "Number of categories in the variable Electrical: 6\n",
      "Number of categories in the variable KitchenQual: 4\n",
      "Number of categories in the variable Functional: 7\n",
      "Number of categories in the variable FireplaceQu: 6\n",
      "Number of categories in the variable GarageType: 7\n",
      "Number of categories in the variable GarageFinish: 4\n",
      "Number of categories in the variable GarageQual: 6\n",
      "Number of categories in the variable GarageCond: 6\n",
      "Number of categories in the variable PavedDrive: 3\n",
      "Number of categories in the variable PoolQC: 4\n",
      "Number of categories in the variable Fence: 5\n",
      "Number of categories in the variable MiscFeature: 5\n",
      "Number of categories in the variable SaleType: 9\n",
      "Number of categories in the variable SaleCondition: 6\n"
     ]
    }
   ],
   "source": [
    "# cardinality of each categorical feature \n",
    "\n",
    "for column in cat_cols:\n",
    "    print('Number of categories in the variable {}: {}'.format(column,len(train_data[column].unique())))\n"
   ]
  },
  {
   "cell_type": "code",
   "execution_count": 159,
   "metadata": {},
   "outputs": [],
   "source": [
    "# Rare labels encoder\n",
    "\n",
    "rare_encoder = RareLabelCategoricalEncoder(\n",
    "    tol=0.05,  # minimal percentage to be considered non-rare\n",
    "    n_categories=4, # minimal number of categories the variable should have to re-cgroup rare categories\n",
    ") \n",
    "\n",
    "rare_encoder.fit(train_data)\n",
    "train_data = rare_encoder.transform(train_data)"
   ]
  },
  {
   "cell_type": "code",
   "execution_count": 160,
   "metadata": {},
   "outputs": [
    {
     "name": "stdout",
     "output_type": "stream",
     "text": [
      "<class 'pandas.core.frame.DataFrame'>\n",
      "RangeIndex: 1460 entries, 0 to 1459\n",
      "Data columns (total 82 columns):\n",
      "Id                  1460 non-null int64\n",
      "MSSubClass          1460 non-null object\n",
      "MSZoning            1460 non-null object\n",
      "LotFrontage         1460 non-null float64\n",
      "LotArea             1460 non-null int64\n",
      "Street              1460 non-null object\n",
      "Alley               1460 non-null object\n",
      "LotShape            1460 non-null object\n",
      "LandContour         1460 non-null object\n",
      "Utilities           1460 non-null object\n",
      "LotConfig           1460 non-null object\n",
      "LandSlope           1460 non-null object\n",
      "Neighborhood        1460 non-null object\n",
      "Condition1          1460 non-null object\n",
      "Condition2          1460 non-null object\n",
      "BldgType            1460 non-null object\n",
      "HouseStyle          1460 non-null object\n",
      "OverallQual         1460 non-null int64\n",
      "OverallCond         1460 non-null int64\n",
      "YearBuilt           1460 non-null int64\n",
      "YearRemodAdd        1460 non-null int64\n",
      "RoofStyle           1460 non-null object\n",
      "RoofMatl            1460 non-null object\n",
      "Exterior1st         1460 non-null object\n",
      "Exterior2nd         1460 non-null object\n",
      "MasVnrType          1460 non-null object\n",
      "MasVnrArea          1460 non-null float64\n",
      "ExterQual           1460 non-null object\n",
      "ExterCond           1460 non-null object\n",
      "Foundation          1460 non-null object\n",
      "BsmtQual            1460 non-null object\n",
      "BsmtCond            1460 non-null object\n",
      "BsmtExposure        1460 non-null object\n",
      "BsmtFinType1        1460 non-null object\n",
      "BsmtFinSF1          1460 non-null int64\n",
      "BsmtFinType2        1460 non-null object\n",
      "BsmtFinSF2          1460 non-null int64\n",
      "BsmtUnfSF           1460 non-null int64\n",
      "TotalBsmtSF         1460 non-null int64\n",
      "Heating             1460 non-null object\n",
      "HeatingQC           1460 non-null object\n",
      "CentralAir          1460 non-null object\n",
      "Electrical          1460 non-null object\n",
      "1stFlrSF            1460 non-null int64\n",
      "2ndFlrSF            1460 non-null int64\n",
      "LowQualFinSF        1460 non-null int64\n",
      "GrLivArea           1460 non-null int64\n",
      "BsmtFullBath        1460 non-null int64\n",
      "BsmtHalfBath        1460 non-null int64\n",
      "FullBath            1460 non-null int64\n",
      "HalfBath            1460 non-null int64\n",
      "BedroomAbvGr        1460 non-null int64\n",
      "KitchenAbvGr        1460 non-null int64\n",
      "KitchenQual         1460 non-null object\n",
      "TotRmsAbvGrd        1460 non-null int64\n",
      "Functional          1460 non-null object\n",
      "Fireplaces          1460 non-null int64\n",
      "FireplaceQu         1460 non-null object\n",
      "GarageType          1460 non-null object\n",
      "GarageFinish        1460 non-null object\n",
      "GarageCars          1460 non-null int64\n",
      "GarageArea          1460 non-null int64\n",
      "GarageQual          1460 non-null object\n",
      "GarageCond          1460 non-null object\n",
      "PavedDrive          1460 non-null object\n",
      "WoodDeckSF          1460 non-null int64\n",
      "OpenPorchSF         1460 non-null int64\n",
      "EnclosedPorch       1460 non-null int64\n",
      "3SsnPorch           1460 non-null int64\n",
      "ScreenPorch         1460 non-null int64\n",
      "PoolArea            1460 non-null int64\n",
      "PoolQC              1460 non-null object\n",
      "Fence               1460 non-null object\n",
      "MiscFeature         1460 non-null object\n",
      "MiscVal             1460 non-null int64\n",
      "MoSold              1460 non-null object\n",
      "YrSold              1460 non-null int64\n",
      "SaleType            1460 non-null object\n",
      "SaleCondition       1460 non-null object\n",
      "SalePrice           1460 non-null int64\n",
      "Remod               1460 non-null int64\n",
      "Remod_YrsElapsed    1460 non-null int64\n",
      "dtypes: float64(2), int64(35), object(45)\n",
      "memory usage: 935.4+ KB\n"
     ]
    }
   ],
   "source": [
    "train_data.info()"
   ]
  },
  {
   "cell_type": "code",
   "execution_count": 161,
   "metadata": {},
   "outputs": [],
   "source": [
    "# evaluating new model\n",
    "\n",
    "X = train_data.drop([\"Id\", \"SalePrice\"], axis=1)\n",
    "y = train_data[\"SalePrice\"]"
   ]
  },
  {
   "cell_type": "code",
   "execution_count": 162,
   "metadata": {},
   "outputs": [
    {
     "name": "stdout",
     "output_type": "stream",
     "text": [
      "RMSLE: nan (+/- nan)\n"
     ]
    },
    {
     "name": "stderr",
     "output_type": "stream",
     "text": [
      "/Users/dina/house-prices-advanced/venv/lib/python3.8/site-packages/sklearn/model_selection/_validation.py:532: FitFailedWarning: Estimator fit failed. The score on this train-test partition for these parameters will be set to nan. Details: \n",
      "ValueError: DataFrame.dtypes for data must be int, float or bool.\n",
      "Did not expect the data types in the following fields: MSSubClass, MSZoning, Street, Alley, LotShape, LandContour, Utilities, LotConfig, LandSlope, Neighborhood, Condition1, Condition2, BldgType, HouseStyle, RoofStyle, RoofMatl, Exterior1st, Exterior2nd, MasVnrType, ExterQual, ExterCond, Foundation, BsmtQual, BsmtCond, BsmtExposure, BsmtFinType1, BsmtFinType2, Heating, HeatingQC, CentralAir, Electrical, KitchenQual, Functional, FireplaceQu, GarageType, GarageFinish, GarageQual, GarageCond, PavedDrive, PoolQC, Fence, MiscFeature, MoSold, SaleType, SaleCondition\n",
      "\n",
      "  warnings.warn(\"Estimator fit failed. The score on this train-test\"\n"
     ]
    }
   ],
   "source": [
    "lightgbm_regr = LGBMRegressor(lambda_l1=1)\n",
    "scores = cross_val_score(lightgbm_regr, X, y, cv=10, scoring='neg_mean_squared_log_error')\n",
    "scores = np.sqrt(np.abs(scores))\n",
    "print(\"RMSLE: %0.2f (+/- %0.2f)\" % (scores.mean(), scores.std() * 2))"
   ]
  },
  {
   "cell_type": "code",
   "execution_count": 163,
   "metadata": {},
   "outputs": [
    {
     "name": "stdout",
     "output_type": "stream",
     "text": [
      "[nan nan nan nan nan nan nan nan nan nan]\n"
     ]
    }
   ],
   "source": [
    "print(scores)"
   ]
  },
  {
   "cell_type": "code",
   "execution_count": 164,
   "metadata": {},
   "outputs": [
    {
     "name": "stdout",
     "output_type": "stream",
     "text": [
      "RMSLE: nan (+/- nan)\n"
     ]
    },
    {
     "name": "stderr",
     "output_type": "stream",
     "text": [
      "/Users/dina/house-prices-advanced/venv/lib/python3.8/site-packages/sklearn/model_selection/_validation.py:532: FitFailedWarning: Estimator fit failed. The score on this train-test partition for these parameters will be set to nan. Details: \n",
      "ValueError: could not convert string to float: 'Rare'\n",
      "\n",
      "  warnings.warn(\"Estimator fit failed. The score on this train-test\"\n",
      "/Users/dina/house-prices-advanced/venv/lib/python3.8/site-packages/sklearn/model_selection/_validation.py:532: FitFailedWarning: Estimator fit failed. The score on this train-test partition for these parameters will be set to nan. Details: \n",
      "ValueError: could not convert string to float: 'Rare'\n",
      "\n",
      "  warnings.warn(\"Estimator fit failed. The score on this train-test\"\n",
      "/Users/dina/house-prices-advanced/venv/lib/python3.8/site-packages/sklearn/model_selection/_validation.py:532: FitFailedWarning: Estimator fit failed. The score on this train-test partition for these parameters will be set to nan. Details: \n",
      "ValueError: could not convert string to float: 'Rare'\n",
      "\n",
      "  warnings.warn(\"Estimator fit failed. The score on this train-test\"\n",
      "/Users/dina/house-prices-advanced/venv/lib/python3.8/site-packages/sklearn/model_selection/_validation.py:532: FitFailedWarning: Estimator fit failed. The score on this train-test partition for these parameters will be set to nan. Details: \n",
      "ValueError: could not convert string to float: 'Rare'\n",
      "\n",
      "  warnings.warn(\"Estimator fit failed. The score on this train-test\"\n",
      "/Users/dina/house-prices-advanced/venv/lib/python3.8/site-packages/sklearn/model_selection/_validation.py:532: FitFailedWarning: Estimator fit failed. The score on this train-test partition for these parameters will be set to nan. Details: \n",
      "ValueError: could not convert string to float: 'Rare'\n",
      "\n",
      "  warnings.warn(\"Estimator fit failed. The score on this train-test\"\n",
      "/Users/dina/house-prices-advanced/venv/lib/python3.8/site-packages/sklearn/model_selection/_validation.py:532: FitFailedWarning: Estimator fit failed. The score on this train-test partition for these parameters will be set to nan. Details: \n",
      "ValueError: could not convert string to float: 'Rare'\n",
      "\n",
      "  warnings.warn(\"Estimator fit failed. The score on this train-test\"\n",
      "/Users/dina/house-prices-advanced/venv/lib/python3.8/site-packages/sklearn/model_selection/_validation.py:532: FitFailedWarning: Estimator fit failed. The score on this train-test partition for these parameters will be set to nan. Details: \n",
      "ValueError: could not convert string to float: 'Rare'\n",
      "\n",
      "  warnings.warn(\"Estimator fit failed. The score on this train-test\"\n",
      "/Users/dina/house-prices-advanced/venv/lib/python3.8/site-packages/sklearn/model_selection/_validation.py:532: FitFailedWarning: Estimator fit failed. The score on this train-test partition for these parameters will be set to nan. Details: \n",
      "ValueError: could not convert string to float: 'Rare'\n",
      "\n",
      "  warnings.warn(\"Estimator fit failed. The score on this train-test\"\n",
      "/Users/dina/house-prices-advanced/venv/lib/python3.8/site-packages/sklearn/model_selection/_validation.py:532: FitFailedWarning: Estimator fit failed. The score on this train-test partition for these parameters will be set to nan. Details: \n",
      "ValueError: could not convert string to float: 'Rare'\n",
      "\n",
      "  warnings.warn(\"Estimator fit failed. The score on this train-test\"\n",
      "/Users/dina/house-prices-advanced/venv/lib/python3.8/site-packages/sklearn/model_selection/_validation.py:532: FitFailedWarning: Estimator fit failed. The score on this train-test partition for these parameters will be set to nan. Details: \n",
      "ValueError: could not convert string to float: 'Rare'\n",
      "\n",
      "  warnings.warn(\"Estimator fit failed. The score on this train-test\"\n"
     ]
    }
   ],
   "source": [
    "rf_regr = RandomForestRegressor()\n",
    "scores = cross_val_score(rf_regr, X, y, cv=10, scoring='neg_mean_squared_log_error')\n",
    "scores = np.sqrt(np.abs(scores))\n",
    "print(\"RMSLE: %0.2f (+/- %0.2f)\" % (scores.mean(), scores.std() * 2))"
   ]
  },
  {
   "cell_type": "code",
   "execution_count": 165,
   "metadata": {},
   "outputs": [
    {
     "name": "stdout",
     "output_type": "stream",
     "text": [
      "[nan nan nan nan nan nan nan nan nan nan]\n"
     ]
    }
   ],
   "source": [
    "print(scores)"
   ]
  },
  {
   "cell_type": "code",
   "execution_count": null,
   "metadata": {},
   "outputs": [],
   "source": []
  }
 ],
 "metadata": {
  "kernelspec": {
   "display_name": "Python 3",
   "language": "python",
   "name": "python3"
  },
  "language_info": {
   "codemirror_mode": {
    "name": "ipython",
    "version": 3
   },
   "file_extension": ".py",
   "mimetype": "text/x-python",
   "name": "python",
   "nbconvert_exporter": "python",
   "pygments_lexer": "ipython3",
   "version": "3.8.0"
  }
 },
 "nbformat": 4,
 "nbformat_minor": 4
}
